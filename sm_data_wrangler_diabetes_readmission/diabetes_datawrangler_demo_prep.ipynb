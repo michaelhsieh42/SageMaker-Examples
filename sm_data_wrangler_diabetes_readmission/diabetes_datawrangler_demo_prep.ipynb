{
 "cells": [
  {
   "cell_type": "markdown",
   "metadata": {},
   "source": [
    "# Amazon SageMaker Data Wrangler demo\n",
    "## Data source\n",
    "This demo of Amazon SageMaker Data Wrangler is using [UCI diabetic patient readmission dataset](https://archive.ics.uci.edu/ml/datasets/diabetes+130-us+hospitals+for+years+1999-2008). The dataset represents 10 years (1999-2008) of clinical care at 130 US hospitals and integrated delivery networks. It includes over 50 features representing patient and hospital outcomes. \n",
    "\n",
    "Detail description of the dataset is available in \n",
    "\n",
    "    Detailed description of all the atrributes is provided in Table 1 Beata Strack, Jonathan P. DeShazo, Chris Gennings, Juan L. Olmo, Sebastian Ventura, Krzysztof J. Cios, and John N. Clore, “Impact of HbA1c Measurement on Hospital Readmission Rates: Analysis of 70,000 Clinical Database Patient Records,” BioMed Research International, vol. 2014, Article ID 781670, 11 pages, 2014.\n"
   ]
  },
  {
   "cell_type": "code",
   "execution_count": 11,
   "metadata": {},
   "outputs": [],
   "source": [
    "import boto3\n",
    "import sagemaker\n",
    "\n",
    "sess = sagemaker.Session()\n",
    "bucket = sess.default_bucket()\n",
    "prefix = 'sagemaker/demo-diabetic-datawrangler'\n",
    "\n",
    "s3_client = boto3.client(\"s3\")"
   ]
  },
  {
   "cell_type": "code",
   "execution_count": 2,
   "metadata": {
    "scrolled": true
   },
   "outputs": [
    {
     "name": "stdout",
     "output_type": "stream",
     "text": [
      "Archive:  dataset_diabetes.zip\n",
      "  inflating: dataset_diabetes/diabetic_data.csv  \n",
      "  inflating: dataset_diabetes/IDs_mapping.csv  \n"
     ]
    },
    {
     "name": "stderr",
     "output_type": "stream",
     "text": [
      "--2021-03-11 00:43:51--  https://archive.ics.uci.edu/ml/machine-learning-databases/00296/dataset_diabetes.zip\n",
      "Resolving archive.ics.uci.edu (archive.ics.uci.edu)... 128.195.10.252\n",
      "Connecting to archive.ics.uci.edu (archive.ics.uci.edu)|128.195.10.252|:443... connected.\n",
      "HTTP request sent, awaiting response... 200 OK\n",
      "Length: 3347213 (3.2M) [application/x-httpd-php]\n",
      "Saving to: ‘dataset_diabetes.zip’\n",
      "\n",
      "     0K .......... .......... .......... .......... ..........  1%  378K 9s\n",
      "    50K .......... .......... .......... .......... ..........  3%  744K 6s\n",
      "   100K .......... .......... .......... .......... ..........  4% 56.9M 4s\n",
      "   150K .......... .......... .......... .......... ..........  6% 63.7M 3s\n",
      "   200K .......... .......... .......... .......... ..........  7%  753K 3s\n",
      "   250K .......... .......... .......... .......... ..........  9% 90.6M 3s\n",
      "   300K .......... .......... .......... .......... .......... 10% 98.2M 2s\n",
      "   350K .......... .......... .......... .......... .......... 12%  169M 2s\n",
      "   400K .......... .......... .......... .......... .......... 13%  761K 2s\n",
      "   450K .......... .......... .......... .......... .......... 15% 43.5M 2s\n",
      "   500K .......... .......... .......... .......... .......... 16% 86.4M 2s\n",
      "   550K .......... .......... .......... .......... .......... 18% 91.7M 1s\n",
      "   600K .......... .......... .......... .......... .......... 19% 75.7M 1s\n",
      "   650K .......... .......... .......... .......... .......... 21% 74.5M 1s\n",
      "   700K .......... .......... .......... .......... .......... 22%  105M 1s\n",
      "   750K .......... .......... .......... .......... .......... 24%  236M 1s\n",
      "   800K .......... .......... .......... .......... .......... 26%  790K 1s\n",
      "   850K .......... .......... .......... .......... .......... 27%  102M 1s\n",
      "   900K .......... .......... .......... .......... .......... 29% 88.4M 1s\n",
      "   950K .......... .......... .......... .......... .......... 30% 89.4M 1s\n",
      "  1000K .......... .......... .......... .......... .......... 32% 70.9M 1s\n",
      "  1050K .......... .......... .......... .......... .......... 33% 59.5M 1s\n",
      "  1100K .......... .......... .......... .......... .......... 35%  207M 1s\n",
      "  1150K .......... .......... .......... .......... .......... 36% 73.3M 1s\n",
      "  1200K .......... .......... .......... .......... .......... 38% 94.9M 1s\n",
      "  1250K .......... .......... .......... .......... .......... 39%  160M 1s\n",
      "  1300K .......... .......... .......... .......... .......... 41% 75.8M 1s\n",
      "  1350K .......... .......... .......... .......... .......... 42%  149M 1s\n",
      "  1400K .......... .......... .......... .......... .......... 44% 47.4M 1s\n",
      "  1450K .......... .......... .......... .......... .......... 45%  151M 0s\n",
      "  1500K .......... .......... .......... .......... .......... 47% 93.1M 0s\n",
      "  1550K .......... .......... .......... .......... .......... 48%  237M 0s\n",
      "  1600K .......... .......... .......... .......... .......... 50%  843K 0s\n",
      "  1650K .......... .......... .......... .......... .......... 52% 63.8M 0s\n",
      "  1700K .......... .......... .......... .......... .......... 53% 96.5M 0s\n",
      "  1750K .......... .......... .......... .......... .......... 55% 78.0M 0s\n",
      "  1800K .......... .......... .......... .......... .......... 56% 73.5M 0s\n",
      "  1850K .......... .......... .......... .......... .......... 58%  193M 0s\n",
      "  1900K .......... .......... .......... .......... .......... 59%  153M 0s\n",
      "  1950K .......... .......... .......... .......... .......... 61% 98.1M 0s\n",
      "  2000K .......... .......... .......... .......... .......... 62% 88.3M 0s\n",
      "  2050K .......... .......... .......... .......... .......... 64%  216M 0s\n",
      "  2100K .......... .......... .......... .......... .......... 65%  114M 0s\n",
      "  2150K .......... .......... .......... .......... .......... 67% 99.3M 0s\n",
      "  2200K .......... .......... .......... .......... .......... 68% 94.4M 0s\n",
      "  2250K .......... .......... .......... .......... .......... 70% 84.4M 0s\n",
      "  2300K .......... .......... .......... .......... .......... 71% 85.3M 0s\n",
      "  2350K .......... .......... .......... .......... .......... 73% 94.6M 0s\n",
      "  2400K .......... .......... .......... .......... .......... 74% 79.3M 0s\n",
      "  2450K .......... .......... .......... .......... .......... 76%  116M 0s\n",
      "  2500K .......... .......... .......... .......... .......... 78%  113M 0s\n",
      "  2550K .......... .......... .......... .......... .......... 79% 77.8M 0s\n",
      "  2600K .......... .......... .......... .......... .......... 81% 76.7M 0s\n",
      "  2650K .......... .......... .......... .......... .......... 82% 83.8M 0s\n",
      "  2700K .......... .......... .......... .......... .......... 84%  107M 0s\n",
      "  2750K .......... .......... .......... .......... .......... 85%  242M 0s\n",
      "  2800K .......... .......... .......... .......... .......... 87%  137M 0s\n",
      "  2850K .......... .......... .......... .......... .......... 88% 72.7M 0s\n",
      "  2900K .......... .......... .......... .......... .......... 90%  135M 0s\n",
      "  2950K .......... .......... .......... .......... .......... 91%  106M 0s\n",
      "  3000K .......... .......... .......... .......... .......... 93% 87.5M 0s\n",
      "  3050K .......... .......... .......... .......... .......... 94%  136M 0s\n",
      "  3100K .......... .......... .......... .......... .......... 96% 1.73M 0s\n",
      "  3150K .......... .......... .......... .......... .......... 97% 1.94M 0s\n",
      "  3200K .......... .......... .......... .......... .......... 99% 70.3M 0s\n",
      "  3250K .......... ........                                   100%  275M=0.5s\n",
      "\n",
      "2021-03-11 00:43:52 (5.94 MB/s) - ‘dataset_diabetes.zip’ saved [3347213/3347213]\n",
      "\n"
     ]
    }
   ],
   "source": [
    "%%sh\n",
    "wget https://archive.ics.uci.edu/ml/machine-learning-databases/00296/dataset_diabetes.zip\n",
    "unzip dataset_diabetes.zip"
   ]
  },
  {
   "cell_type": "markdown",
   "metadata": {},
   "source": [
    "## Split the data for demo purposes\n"
   ]
  },
  {
   "cell_type": "code",
   "execution_count": 3,
   "metadata": {},
   "outputs": [],
   "source": [
    "import pandas as pd\n",
    "df = pd.read_csv('dataset_diabetes/diabetic_data.csv', index_col = 'encounter_id')"
   ]
  },
  {
   "cell_type": "code",
   "execution_count": 6,
   "metadata": {},
   "outputs": [],
   "source": [
    "demographic_feature_columns = 'patient_nbr,race,gender,age,weight'.split(',')\n",
    "hospital_visits_feature_columns = 'patient_nbr,admission_type_id,discharge_disposition_id,admission_source_id,time_in_hospital,payer_code,medical_specialty,num_lab_procedures,num_procedures,num_medications,number_outpatient,number_emergency,number_inpatient,diag_1,diag_2,diag_3,readmitted'.split(',')\n",
    "labs_feature_columns = 'patient_nbr,A1Cresult,max_glu_serum'.split(',')\n",
    "medication_feature_columns = 'patient_nbr,metformin,repaglinide,nateglinide,chlorpropamide,glimepiride,acetohexamide,glipizide,glyburide,tolbutamide,pioglitazone,rosiglitazone,acarbose,miglitol,troglitazone,tolazamide,examide,citoglipton,insulin,glyburide-metformin,glipizide-metformin,glimepiride-pioglitazone,metformin-rosiglitazone,metformin-pioglitazone,change,diabetesMed'.split(',')"
   ]
  },
  {
   "cell_type": "markdown",
   "metadata": {},
   "source": [
    "Split the CSV into multiple CSVs and upload them to a S3 bucket"
   ]
  },
  {
   "cell_type": "code",
   "execution_count": 12,
   "metadata": {},
   "outputs": [],
   "source": [
    "dfs = []\n",
    "suffix = ['demographic', 'hospital_visits', 'labs', 'medication']\n",
    "for i, columns in enumerate([demographic_feature_columns, hospital_visits_feature_columns, \n",
    "                             labs_feature_columns, medication_feature_columns]):\n",
    "    df_tmp = df[columns]\n",
    "    dfs.append(df_tmp)\n",
    "    fname = 'dataset_diabetes/diabetic_data_%s.csv' % suffix[i]\n",
    "    df_tmp.to_csv(fname)\n",
    "    s3_client.upload_file(fname, bucket,  '%s/%s' % (prefix, fname))"
   ]
  },
  {
   "cell_type": "code",
   "execution_count": 15,
   "metadata": {},
   "outputs": [
    {
     "name": "stdout",
     "output_type": "stream",
     "text": [
      "Your data is uploaded to s3://sagemaker-us-east-1-029454422462/sagemaker/demo-diabetic-datawrangler/\n"
     ]
    }
   ],
   "source": [
    "print('Your data is uploaded to s3://%s/%s/' % (bucket, prefix))"
   ]
  },
  {
   "cell_type": "code",
   "execution_count": null,
   "metadata": {},
   "outputs": [],
   "source": []
  }
 ],
 "metadata": {
  "instance_type": "ml.t3.medium",
  "kernelspec": {
   "display_name": "Python 3 (Data Science)",
   "language": "python",
   "name": "python3__SAGEMAKER_INTERNAL__arn:aws:sagemaker:us-east-1:081325390199:image/datascience-1.0"
  },
  "language_info": {
   "codemirror_mode": {
    "name": "ipython",
    "version": 3
   },
   "file_extension": ".py",
   "mimetype": "text/x-python",
   "name": "python",
   "nbconvert_exporter": "python",
   "pygments_lexer": "ipython3",
   "version": "3.7.6"
  }
 },
 "nbformat": 4,
 "nbformat_minor": 4
}
